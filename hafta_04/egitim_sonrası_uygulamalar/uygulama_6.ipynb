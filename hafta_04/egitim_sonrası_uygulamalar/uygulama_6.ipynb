{
 "cells": [
  {
   "cell_type": "markdown",
   "metadata": {},
   "source": [
    "# Problem 1\n",
    "`ogrenciler` adında bir sözlük oluşturunuz. Kullanıcıdan döngü yardımıyla 3 öğrenci için veri girmesini isteyerek öğrencilerin sırasıyla okul numarası, isim, soy isim, telefon numarası ve doğum tarihi bilgilerini alınız. Aldığınız öğrenci bilgilerini yine aynı döngü yardımıyla `ogrenciler` adındaki sözlükte saklayınız. Daha sonra öğrenci bilgilerinin bulunduğu sözlük yapısını ekrana bastırınız.\n",
    "\n"
   ]
  },
  {
   "cell_type": "code",
   "execution_count": null,
   "metadata": {},
   "outputs": [],
   "source": [
    "# 1.Problemin Çözümünü Buraya Yazınız\n",
    "ogrenciler = dict()\n",
    "for bilgi_al in range(3):\n",
    "    okul_no = input(\"Ogrencinin okul numarasini girin: \")\n",
    "    ogrenci_ismi = input(\"Lütfen ogrencinin ismini girin: \")\n",
    "    ogrenci_soyismi = input(\"Lütfen ogrencinin soyismini girin: \")\n",
    "    telefon_no = input(\"Ogrencinin telefon numarasini girin: \")\n",
    "    dogum_tarihi = input(\"Ogrencinin dogum tarihini girin: \")\n",
    "    ekle = {ogrenci_ismi + \" \" + ogrenci_soyismi : [okul_no , telefon_no , dogum_tarihi]}\n",
    "    ogrenciler.update(ekle)\n",
    "print(ogrenciler)"
   ]
  },
  {
   "cell_type": "markdown",
   "metadata": {},
   "source": [
    "# Problem 2\n",
    "\n",
    "### a - Biraz ısınarak başlayalım!\n",
    "\n",
    "```\n",
    "numbers = [5,10,10,15,15,15,20,20,20,20]\n",
    "```\n",
    "\n",
    "Yukarıda `numbers` adında 10 elemanlı bir liste verilmiştir. Bu listenin her elemanını kontrol eden ve tekrar eden elemanları bir kez olacak şekilde başka bir listeye kopyalayan bir program yazınız. Son olarak oluşturduğunuz listeyi ekrana bastırınız.\n",
    "\n",
    "\n",
    "\n",
    "\n",
    "```\n",
    ">Output\n",
    "[5, 10, 15, 20]\n",
    "```\n"
   ]
  },
  {
   "cell_type": "code",
   "execution_count": null,
   "metadata": {},
   "outputs": [],
   "source": [
    "# 2.Problemin a Şıkkının Çözümünü Buraya Yazınız\n",
    "numbers = [5,10,10,15,15,15,20,20,20,20]\n",
    "eleman_sayisi = len(numbers)\n",
    "numbers_tekrarsiz = [] \n",
    "x = 0\n",
    "while True:\n",
    "    kac_tane = numbers.count(numbers[x])\n",
    "    if kac_tane == 1:\n",
    "        numbers_tekrarsiz.append(numbers[x])\n",
    "        x += 1\n",
    "    else:\n",
    "        numbers_tekrarsiz.append(numbers[x])\n",
    "        x += kac_tane\n",
    "    if x == eleman_sayisi:\n",
    "        break\n",
    "print(numbers_tekrarsiz)"
   ]
  },
  {
   "cell_type": "markdown",
   "metadata": {},
   "source": [
    "### 🌶️ b) Hadi işi biraz daha zorlaştıralım! \n",
    "\n",
    "\n",
    "Şimdiyse senden `numbers` isimli listedeki tekrar eden elemanları `repeatNumbers` adındaki listeye; tekrar etmeyen elemanları `uniqueNumbers`adındaki listeye kopyalayan yazmanı ve listeleri ekrana bastırmanı bekliyoruz\n",
    "\n",
    "```\n",
    ">Output\n",
    "Tekrar Eden Elemanlar: [10, 10, 15, 15, 15, 20, 20, 20, 20]\n",
    "Tekrar Etmeyen Elemanlar: [5]\n",
    "```"
   ]
  },
  {
   "cell_type": "code",
   "execution_count": null,
   "metadata": {},
   "outputs": [],
   "source": [
    "# 2.Problemin b Şıkkının Çözümünü Buraya Yazınız\n",
    "numbers = [5,10,10,15,15,15,20,20,20,20]\n",
    "eleman_sayisi = len(numbers)\n",
    "repeat_numbers = []\n",
    "unique_numbers = [] \n",
    "x = 0\n",
    "while True:\n",
    "    kac_tane = numbers.count(numbers[x])\n",
    "    if kac_tane == 1:\n",
    "        unique_numbers.append(numbers[x])\n",
    "        x += 1\n",
    "    else:\n",
    "        repeat_numbers.append(numbers[x])\n",
    "        x += 1\n",
    "    if x == eleman_sayisi:\n",
    "        break\n",
    "print(unique_numbers)"
   ]
  },
  {
   "cell_type": "markdown",
   "metadata": {},
   "source": [
    "# Problem 3\n",
    "sn1 = {1,2,3,4,5}\n",
    "\n",
    "sn2 = {4,5,6,7,8}\n",
    "\n",
    " Verilen 2 adet küme için kesişimlerini, farklarını ve birleşimlerini bulunuz. "
   ]
  },
  {
   "cell_type": "code",
   "execution_count": null,
   "metadata": {},
   "outputs": [],
   "source": [
    "# 3.Problemin Çözümünü Buraya Yazınız\n",
    "sn1 = {1,2,3,4,5}\n",
    "sn2 = {4,5,6,7,8}\n",
    "print(sn1.intersection(sn2))\n",
    "print(sn1.difference(sn2))\n",
    "print(sn2.difference(sn1))\n",
    "print(sn1.union(sn2))"
   ]
  },
  {
   "cell_type": "markdown",
   "metadata": {},
   "source": [
    "# Problem 4\n",
    "\n",
    "Buradaki işlemlerimizin tamamı stringler içindir. Aşağıda verilecek olan metodlar için kendinizin örnek yaratması gerekmektedir. \n",
    "\n",
    "Örneğin `upper` için `string` değişkeni oluştururken` k = \"BAC\"` şeklinde oluşturmayınız. Bunun yerine k değişkenini `k = \"bac`\" şeklinde oluşturmanız `upper` metodundaki değişimi görebilmeniz için daha iyi olacaktır.\n",
    "\n",
    "Bütün metodlardaki değişimin gözle görülür şekilde değişimi beklenmektedir.\n",
    "\n",
    "\n",
    "1- capitalize(), lower(), upper(), swapcase(), title(), replace()\n",
    "\n",
    "2- endswith(), startswith(), find(), index(), count()\n",
    "\n",
    "3- split(), strip(), join(), islower(), isalpha(), isdigit()\n",
    "\n",
    "\n",
    "Yukarıdaki `string` metodlarındaki değişimleri görebildiğimiz bir program yazınız.\n"
   ]
  },
  {
   "cell_type": "code",
   "execution_count": null,
   "metadata": {},
   "outputs": [],
   "source": [
    "# 4.Problemin Çözümünü Buraya Yazınız\n",
    "#1.1\n",
    "string_1 = \"ankara\"\n",
    "print(string_1.capitalize())\n",
    "\n",
    "#1.2\n",
    "string_2 = \"united kingdom\"\n",
    "print(string_2.upper())\n",
    "\n",
    "#1.3\n",
    "string_3 = \"SESSİZLİK\"\n",
    "print(string_3.lower())\n",
    "\n",
    "#1.4\n",
    "string_4 = \"mUSTAFA kEMAL aTATÜRK\"\n",
    "print(string_4.swapcase())\n",
    "\n",
    "#1.5\n",
    "string_5 = \"actio libera in causa\"\n",
    "print(string_5.title())\n",
    "\n",
    "#1.6\n",
    "string_6 = \"ikilik sayma sistemi\"\n",
    "print(string_6.replace(\"ikilik\" , \"onluk\"))\n",
    "\n",
    "#2.1\n",
    "string_7 = \"Reform\"\n",
    "print(string_7.endswith(\"rm\"))\n",
    "print(string_7.endswith(\"k\"))\n",
    "\n",
    "#2.2\n",
    "string_8 = \"Internet Hukuku\"\n",
    "print(string_8.startswith(\"In\"))\n",
    "print(string_8.startswith(\"k\"))\n",
    "\n",
    "#2.3\n",
    "string_9 = \"Kelime Oyunu\"\n",
    "print(string_9.find(\"Oyun\"))\n",
    "\n",
    "#2.4\n",
    "string_10 = \"Burada kac karakter var?\"\n",
    "print(string_10.count(\"\"))\n",
    "\n",
    "#2.5\n",
    "string_11 = \"abcdefgh\"\n",
    "print(string_11.index(\"h\"))\n",
    "\n",
    "#3.1\n",
    "string_12 = \"Bir*plan*ve*düzen*dahilinde*gayret*göster.\"\n",
    "print(string_12.split(\"*\"))\n",
    "\n",
    "#3.2\n",
    "string_13 = \"kücük harf\"\n",
    "print(string_13.islower())\n",
    "\n",
    "#3.3\n",
    "string_14 = \"insan\"\n",
    "print(string_14 + \"\".join(\" hizlandiricisi\"))\n",
    "\n",
    "#3.4\n",
    "string_15 = \"12 sayisi alfabede yok.\"\n",
    "string_16 = \"alfabe\"\n",
    "print(string_15.isalpha())\n",
    "print(string_16.isalpha())\n",
    "\n",
    "#3.5\n",
    "string_17 = \"0123456789\"\n",
    "string_18 = \"0 1 2 3 4 5 6 7 8 9\"\n",
    "print(string_17.isdigit())\n",
    "print(string_18.isdigit())\n",
    "\n",
    "#3.6\n",
    "string_19 = \"   Basinda bir tab, sonunda iki karakte bosluk var.  \"\n",
    "print(string_19.strip())"
   ]
  }
 ],
 "metadata": {
  "kernelspec": {
   "display_name": "Python 3.10.5 64-bit",
   "language": "python",
   "name": "python3"
  },
  "language_info": {
   "name": "python",
   "version": "3.10.5"
  },
  "orig_nbformat": 4,
  "vscode": {
   "interpreter": {
    "hash": "5026d2d6e7aaaaba093def813beadff083d8733e4a511af01735cbabd156995d"
   }
  }
 },
 "nbformat": 4,
 "nbformat_minor": 2
}
