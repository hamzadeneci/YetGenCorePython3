{
  "cells": [
    {
      "cell_type": "markdown",
      "metadata": {
        "id": "tsD4YVAe_Te2"
      },
      "source": [
        "# Problem 1\n",
        "Bir sayının 7'ye bölünebilir olup olmadığını kontrol etmek \n",
        "için bir program yazın.\n",
        "\n",
        "İpucu: Mod operatörünü (%) kullanabilirsiniz."
      ]
    },
    {
      "cell_type": "code",
      "execution_count": null,
      "metadata": {
        "id": "NGjvNwKx_Te7"
      },
      "outputs": [],
      "source": [
        "# 1.Problemin Çözümünü Buraya Yazınız\n",
        "kontrol_sayisi = float(input(\"Kontrol etmek istediginiz sayiyi girin: \"))\n",
        "if kontrol_sayisi % 7 == 0:\n",
        "    print(f\"Girdiginiz sayi({kontrol_sayisi}) 7'ye tam bolunuyor.\")\n",
        "else:\n",
        "    print(\"Girdiginiz sayi 7'ye tam bolunmuyor.\")"
      ]
    },
    {
      "cell_type": "markdown",
      "metadata": {
        "id": "Kg3qiBAI_Te8"
      },
      "source": [
        "# Problem 2\n",
        "Kullanıcıdan vize ve final notu isteyin. Girilen vize notunun %40’ı ve \n",
        "girilen finalnotunun ise %60’ı alınarak yıl sonu not ortalaması hesaplanacaktır. \n",
        "\n",
        "Bu not ortalaması eğer 85 ve üzeri ise AA, \n",
        "\n",
        "75 ve 85 arasında ise BA, \n",
        "\n",
        "70 ve 75 arasında ise BB, \n",
        "\n",
        "65 ve 70 arasında ise CB,\n",
        "\n",
        "60 ve 65 arasında ise CC,\n",
        "\n",
        "55 ve 60 arasında ise DC,\n",
        "\n",
        "50 ve 55 arasında ise DD olarak hesaplanacaktır. \n",
        "\n",
        "Bu öğrencinin yıl sonu toplam notu 50’nin altında ise FF ile dersten kalacaktır. \n",
        "\n",
        "Ayrıca öğrencinin final notu 50’nin altında ise direkt FF ile kalacaktır."
      ]
    },
    {
      "cell_type": "code",
      "execution_count": 1,
      "metadata": {
        "id": "MXTtCxI1_Te8"
      },
      "outputs": [
        {
          "name": "stdout",
          "output_type": "stream",
          "text": [
            "CC\n"
          ]
        }
      ],
      "source": [
        "# 2.Problemin Çözümünü Buraya Yazınız\n",
        "vize_notu = float(input(\"Vize notunu giriniz:\"))\n",
        "final_notu = float(input(\"Final notunu giriniz:\"))\n",
        "if vize_notu > 100:\n",
        "    while vize_notu > 100:\n",
        "        vize_notu = float(input(\"Vize notunu dogru giriniz.\"))\n",
        "if final_notu > 100:\n",
        "    while final_notu > 100:\n",
        "        final_notu = float(input(\"Final notunu dogru giriniz.\"))\n",
        "not_ortalamasi = (vize_notu * 4 + final_notu  * 6) / 10\n",
        "if vize_notu <= 100 and final_notu <= 100 and 85 <= not_ortalamasi <= 100:\n",
        "    if final_notu < 50:\n",
        "        print(\"FF ile kaldi\")\n",
        "    else:\n",
        "        print(\"AA\")\n",
        "elif 75 <= not_ortalamasi < 85:\n",
        "    if final_notu < 50:\n",
        "        print(\"FF ile kaldi\")\n",
        "    else:\n",
        "        print(\"BA\")\n",
        "elif 70 <= not_ortalamasi < 75:\n",
        "    if final_notu < 50:\n",
        "        print(\"FF ile kaldi\")\n",
        "    else:\n",
        "        print(\"BB\")\n",
        "elif 65 <= not_ortalamasi < 70:\n",
        "    if final_notu < 50:\n",
        "        print(\"FF ile kaldi\")\n",
        "    else:\n",
        "        print(\"CB\")\n",
        "elif 60 <= not_ortalamasi < 65:\n",
        "    if final_notu < 50:\n",
        "        print(\"FF ile kaldi\")\n",
        "    else:\n",
        "        print(\"CC\")\n",
        "elif 55 <= not_ortalamasi < 60:\n",
        "    if final_notu < 50:\n",
        "        print(\"FF ile kaldi\")\n",
        "    else:\n",
        "        print(\"DC\")\n",
        "elif 50 <= not_ortalamasi < 55:\n",
        "    if final_notu < 50:\n",
        "        print(\"FF ile kaldi\")\n",
        "    else:\n",
        "        print(\"DD\")               \n",
        "else:\n",
        "    print(\"FF ile kaldi\")"
      ]
    },
    {
      "cell_type": "markdown",
      "metadata": {
        "id": "tAoRYCTC_Te8"
      },
      "source": [
        "# Problem 3\n",
        "İki YetGenli Zirve'de karşılaşıyorlar. Birbirlerini tanımak için sorular soruyorlar. Birbirlerine yaşlarını soruyorlar. Akıllarına bir Python programı yazıp, yaşlarını ve isimlerini giriyorlar. Büyük olanın yaşını ekrana yazdıran programı yazıyorlar. Sende bu iki YetGenli'ye destek olmak ister misin?\n",
        "\n",
        "```\n",
        "Birinci YetGenlinin ismi: Ahmet\n",
        "Birinci YetGenlinin yaşı : 20\n",
        "İkinci YetGenlinin ismi: Mehmet\n",
        "İkinci YetGenlinin yaşı : 25\n",
        "Mehmet'in yaşı daha büyük ve yaşı 25'tir.\n",
        "```"
      ]
    },
    {
      "cell_type": "code",
      "execution_count": null,
      "metadata": {
        "id": "bPjE8W0i_Te8"
      },
      "outputs": [],
      "source": [
        "# 3.Problemin Çözümünü Buraya Yazınız\n",
        "birinci_yetgenlinin_ismi = input(\"Birinci YetGenli'nin ismini yazin: \")\n",
        "birinci_yetgenlinin_yasi = int(input(\"Birinci YetGenli'nin yasini yazin: \"))\n",
        "ikinci_yetgenlinin_ismi = input(\"İkinci YetGenli'nin ismini yazin: \")\n",
        "ikinci_yetgenlinin_yasi = int(input(\"İkinci YetGenli'nin yasini yazin: \"))\n",
        "if birinci_yetgenlinin_yasi > ikinci_yetgenlinin_yasi:\n",
        "    print(f\"{birinci_yetgenlinin_ismi}'nin yasi daha buyuk ve yasi {birinci_yetgenlinin_yasi}\")\n",
        "elif ikinci_yetgenlinin_yasi > birinci_yetgenlinin_yasi:\n",
        "    print(f\"{ikinci_yetgenlinin_ismi}'nin yasi daha buyuk ve yasi {ikinci_yetgenlinin_yasi}\")\n",
        "else:\n",
        "    print(f\"{birinci_yetgenlinin_ismi} ve {ikinci_yetgenlinin_ismi}'nin yaslari birbirine esittir.\")"
      ]
    },
    {
      "cell_type": "markdown",
      "metadata": {
        "id": "zBVv8Tyg_Te9"
      },
      "source": [
        "# Problem 4\n",
        "Pandemi döneminde AVM'lerde ateş ölçümü yapılıyor. AVM'ye giren kişinin ateş ölçümü 37.5 derecenin altında ise girişe izin veriliyor. 37.5 derecenin üstünde ise girişe izin verilmiyor. AVM'ye girişe izin verilip verilmediğini ekrana yazdıran bir program yazın.\n",
        "\n",
        "Program sonunda şöyle bir çıktı elde etmelisiniz:\n",
        "\n",
        "```\n",
        "Ateşiniz 37.5 derece. AVM'ye girebilirsin! Maske takmayı unutma!\n",
        "Ateşiniz 37.6 derece. AVM'ye giremezsin! Hemen evine dön!\n",
        "```"
      ]
    },
    {
      "cell_type": "code",
      "execution_count": null,
      "metadata": {
        "id": "TSAXs8et_Te9"
      },
      "outputs": [],
      "source": [
        "# 4.Problemin Çözümünü Buraya Yazınız\n",
        "giren_kisi = float(input(\"Atesi kac derece? \"))\n",
        "if giren_kisi > 37.5:\n",
        "    print(f\"Atesiniz {giren_kisi} derece. AVM'ye giremezsin! Hemen evine dön!\")\n",
        "else:\n",
        "    print(f\"Atesiniz {giren_kisi} derece. AVM'ye girebilirsin! Maske takmayi unutma!\")"
      ]
    },
    {
      "cell_type": "markdown",
      "metadata": {
        "id": "6AEkZrDt_Te9"
      },
      "source": [
        "# Problem 5\n",
        "YetGen bir spor kulübüyle sponsorluk anlaşması yapıyor. Kulüp, sponsorluk anlaşmasına göre her YetGen liderinin beden kitle indeksini hesaplamak istiyor. Spor kulübü, beden kitle indeksini hesaplamak için YetGen Jump Python liderlerinden Berkcan ve Ahmet'i arıyor. Berkcan ve Ahmet, kulübe yardımcı olmak için bir Python programı yazıyorlar. Sende bu iki YetGen liderine destek olmak ister misin?\n",
        "\n",
        "Kullanıcıdan alınan boy ve kilo değerlerine göre beden kitle indeksini hesaplayın ve şu kurallara göre ekrana şu yazıları yazdırın.\n",
        "\n",
        "\n",
        "Beden Kitle İndeksi, kişinin ağırlığının (kg olarak) boyunun karesine (m olarak) bölünmesiyle hesaplanır.\n",
        "\n",
        "\n",
        "```\n",
        " BKİ 18.5'un altındaysa -------> Zayıf\n",
        "\n",
        " BKİ 18.5 ile 25 arasındaysa ------> Normal\n",
        "\n",
        " BKİ 25 ile 30 arasındaysa --------> Fazla Kilolu\n",
        "\n",
        " BKİ 30'un üstündeyse -------------> Obez\n",
        "```\n",
        "\n"
      ]
    },
    {
      "cell_type": "code",
      "execution_count": null,
      "metadata": {
        "id": "t-XPI_u0_Te-"
      },
      "outputs": [],
      "source": [
        "# 5.Problemin Çözümünü Buraya Yazınız\n",
        "agirlik = float(input(\"Agirligi girin: \"))\n",
        "boy = float(input(\"Boyu girin: \")) / 100\n",
        "beden_kitle_indeksi = agirlik / (boy ** 2)\n",
        "if beden_kitle_indeksi < 18.5:\n",
        "    print(\"Zayif\")\n",
        "elif 18.5 <= beden_kitle_indeksi < 25:\n",
        "    print(\"Normal\")\n",
        "elif 25 <= beden_kitle_indeksi < 30:\n",
        "    print(\"Fazla Kilolu\")\n",
        "else:\n",
        "    print(\"Obez\")"
      ]
    },
    {
      "cell_type": "markdown",
      "metadata": {
        "id": "oFsvQyaO_Te-"
      },
      "source": [
        "# Problem 6\n",
        "Kullanıcıdan isim, yaş ve eğitim bilgilerini isteyip ehliyet alabilme  durumunu kontrol ediniz. \n",
        "\n",
        "Ehliyet alma koşulu en az 18 yaşında ve eğitim durumu lise ya da üniversite olmalıdır. "
      ]
    },
    {
      "cell_type": "code",
      "execution_count": null,
      "metadata": {
        "id": "Tu2mcgco_Te-"
      },
      "outputs": [],
      "source": [
        "# 6.Problemin Çözümünü Buraya Yazınız\n",
        "isim = input(\"İsminizi girin: \")\n",
        "yas = int(input(\"Yasinizi girin: \"))\n",
        "egitim  = input(\"Egitim bilgisini girin: \")\n",
        "if yas > 18 and egitim == \"Lise\":\n",
        "    print(f\"{isim} ehliyet alma kosullarini karsiliyor.\")\n",
        "elif yas > 18 and egitim == \"Universite\":\n",
        "    print(f\"{isim} ehliyet alma kosullarini karsiliyor.\")\n",
        "else:\n",
        "    print(f\"{isim} ehliyet alma kosullarini karsilamiyor!\")"
      ]
    },
    {
      "cell_type": "markdown",
      "metadata": {
        "id": "eUkxVSAE_Te_"
      },
      "source": [
        "# Problem 7\n",
        "Bir yılın artık yıl olup olmadığını kontrol etmek için bir program yazın. \n",
        "Artık yıl kuralı:\n",
        "\n",
        "a) Eğer yılın son iki basamağı (00) ile bitmiyor ve yalnızca 4'e tam bölünüyorsa artık yıldır. Ya da, \n",
        "\n",
        "b) Eğer yıl 400'e tam bölünüyorsa artık yıldır.\n",
        "\n",
        "**Örneğin**\n",
        "```\n",
        "2017 artık yıl değildir.\n",
        "1900 artık yıl değildir\n",
        "2012 artık yıldır.\n",
        "2000 artık yıldır.\n",
        "```"
      ]
    },
    {
      "cell_type": "code",
      "execution_count": null,
      "metadata": {
        "id": "4uWh8qUL_Te_"
      },
      "outputs": [],
      "source": [
        "# 7.Problemin Çözümünü Buraya Yazınız\n",
        "yil = input(\"Bulundugunuz yili yazin: \")\n",
        "if int(yil) % 4 == 0 and yil[-1:-3:-1] != \"00\" or int(yil) % 400 == 0:\n",
        "    print(f\"{yil} yili artik yildir.\")\n",
        "else:\n",
        "    print(f\"{yil} artik yil degildir.\")"
      ]
    }
  ],
  "metadata": {
    "colab": {
      "provenance": []
    },
    "kernelspec": {
      "display_name": "Python 3.10.5 64-bit",
      "language": "python",
      "name": "python3"
    },
    "language_info": {
      "codemirror_mode": {
        "name": "ipython",
        "version": 3
      },
      "file_extension": ".py",
      "mimetype": "text/x-python",
      "name": "python",
      "nbconvert_exporter": "python",
      "pygments_lexer": "ipython3",
      "version": "3.12.3"
    },
    "orig_nbformat": 4,
    "vscode": {
      "interpreter": {
        "hash": "5026d2d6e7aaaaba093def813beadff083d8733e4a511af01735cbabd156995d"
      }
    }
  },
  "nbformat": 4,
  "nbformat_minor": 0
}
